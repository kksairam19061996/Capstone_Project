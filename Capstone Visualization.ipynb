{
 "cells": [
  {
   "cell_type": "markdown",
   "metadata": {},
   "source": [
    "# Analyzing the Life Insurance Data\n",
    "\n",
    "\n",
    "## Response_AGE_BMI \n",
    "<img src='Response_AGE_BMI.jpg'><br><br>\n",
    "\n",
    "## Product Info Analysis\n",
    "<img src='Product_info.jpg'><br><br>\n",
    "\n",
    "## Employment_Info Analysis\n",
    "<img src='Employment_info.jpg'><br><br>\n",
    "\n",
    "## Insurance_History Analysis\n",
    "<img src='Insurance_History.jpg'><br><br>\n",
    "\n",
    "## Insured_info Analysis\n",
    "<img src='insured_info_1.jpg'><br><br>\n",
    "<img src='insured_info_2.jpg'><br><br>\n",
    "\n",
    "## Medical_History,Medical_Keyword Analysis\n",
    "<img src='Medical.jpg'><br><br>"
   ]
  },
  {
   "cell_type": "code",
   "execution_count": null,
   "metadata": {},
   "outputs": [],
   "source": []
  }
 ],
 "metadata": {
  "kernelspec": {
   "display_name": "Python 3",
   "language": "python",
   "name": "python3"
  },
  "language_info": {
   "codemirror_mode": {
    "name": "ipython",
    "version": 3
   },
   "file_extension": ".py",
   "mimetype": "text/x-python",
   "name": "python",
   "nbconvert_exporter": "python",
   "pygments_lexer": "ipython3",
   "version": "3.7.0"
  }
 },
 "nbformat": 4,
 "nbformat_minor": 2
}
